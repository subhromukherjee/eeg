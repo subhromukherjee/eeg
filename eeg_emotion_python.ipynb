{
  "cells": [
    {
      "cell_type": "code",
      "execution_count": 11,
      "metadata": {
        "id": "mHy8FWr0Jb01"
      },
      "outputs": [
        {
          "name": "stdout",
          "output_type": "stream",
          "text": [
            "Note: you may need to restart the kernel to use updated packages.\n"
          ]
        },
        {
          "name": "stderr",
          "output_type": "stream",
          "text": [
            "ERROR: Could not find a version that satisfies the requirement pywt (from versions: none)\n",
            "ERROR: No matching distribution found for pywt\n"
          ]
        }
      ],
      "source": [
        "%pip install pywt\n",
        "import os\n",
        "import sys\n",
        "\n",
        "import pandas as pd\n",
        "import numpy as np\n",
        "\n",
        "import pywt\n",
        "import scipy.io as spio\n",
        "from scipy.stats import entropy\n",
        "from collections import Counter\n",
        "\n",
        "from sklearn import svm\n",
        "from sklearn.preprocessing import normalize\n",
        "from sklearn.model_selection import train_test_split\n",
        "from sklearn.model_selection import GridSearchCV\n",
        "from sklearn.svm import SVC\n",
        "from sklearn.metrics import classification_report\n",
        "\n",
        "import timeit"
      ]
    },
    {
      "cell_type": "code",
      "execution_count": 12,
      "metadata": {
        "colab": {
          "base_uri": "https://localhost:8080/",
          "height": 90
        },
        "id": "xA-SVLx8JrV1",
        "outputId": "7f4c850d-7761-44f4-df88-be9964df14c5"
      },
      "outputs": [
        {
          "data": {
            "text/plain": [
              "'\\n   Authors: Shivam Chaudhary\\n            Centre of Behavioural and Cognitive Sciences, Allahabad\\n   In this project we will be recognising Emotion of a Human being from EEG signal.\\n   About the data set : The data set is called the seed data set.\\n   It contains data of 15 people that underwent trails 15 times each thrice.\\n\\n           Total data items =  15 (subjects) * 15 (trials each) * 3 (sessions each)\\n                            = 675 data items\\n\\n   Our project consists of 4 modules, namely : pre processing, feature extraction, feature reduction and classification,\\n   all of which are mentioned in detail in the black book.\\n\\n'"
            ]
          },
          "execution_count": 12,
          "metadata": {},
          "output_type": "execute_result"
        }
      ],
      "source": [
        "'''\n",
        "   Authors: Shivam Chaudhary\n",
        "            Centre of Behavioural and Cognitive Sciences, Allahabad\n",
        "   In this project we will be recognising Emotion of a Human being from EEG signal.\n",
        "   About the data set : The data set is called the seed data set.\n",
        "   It contains data of 15 people that underwent trails 15 times each thrice.\n",
        "\n",
        "           Total data items =  15 (subjects) * 15 (trials each) * 3 (sessions each)\n",
        "                            = 675 data items\n",
        "\n",
        "   Our project consists of 4 modules, namely : pre processing, feature extraction, feature reduction and classification,\n",
        "   all of which are mentioned in detail in the black book.\n",
        "\n",
        "'''"
      ]
    },
    {
      "cell_type": "code",
      "execution_count": 13,
      "metadata": {
        "id": "5rjOC6NHclK2"
      },
      "outputs": [],
      "source": [
        "WAVELET = \"db6\"\n",
        "MAX_LEVEL = 5"
      ]
    },
    {
      "cell_type": "code",
      "execution_count": null,
      "metadata": {
        "colab": {
          "base_uri": "https://localhost:8080/",
          "height": 36
        },
        "id": "3lnGMQvTJ9Pq",
        "outputId": "29a4b1b2-c61e-4af1-801a-fc54d476673e"
      },
      "outputs": [
        {
          "ename": "",
          "evalue": "",
          "output_type": "error",
          "traceback": [
            "\u001b[1;31mRunning cells with 'Python 3.9.1 64-bit' requires ipykernel package.\n",
            "Run the following command to install 'ipykernel' into the Python environment. \n",
            "Command: 'C:/Users/subhr/AppData/Local/Programs/Python/Python39/python.exe -m pip install ipykernel -U --user --force-reinstall'"
          ]
        }
      ],
      "source": [
        "dir = \"/content/drive/MyDrive/EEG-emotion-python/seed dataset/SEED\"\n",
        "os.chdir(dir)\n",
        "os.getcwd()"
      ]
    },
    {
      "cell_type": "code",
      "execution_count": null,
      "metadata": {
        "id": "OieGOhu9Mp-H"
      },
      "outputs": [
        {
          "ename": "",
          "evalue": "",
          "output_type": "error",
          "traceback": [
            "\u001b[1;31mRunning cells with 'Python 3.9.1 64-bit' requires ipykernel package.\n",
            "Run the following command to install 'ipykernel' into the Python environment. \n",
            "Command: 'C:/Users/subhr/AppData/Local/Programs/Python/Python39/python.exe -m pip install ipykernel -U --user --force-reinstall'"
          ]
        }
      ],
      "source": [
        "# Unzip the data file\n",
        "# # Do only once\n",
        "# import zipfile\n",
        "# with zipfile.ZipFile(\"ExtractedFeatures.zip\", 'r') as zip_ref:\n",
        "#     zip_ref.extractall(os.getcwd() + \"/temp\")\n",
        "# !unzip -u \"/content/drive/MyDrive/EEG-emotion-python/seed dataset/SEED/Preprocessed_EEG.zip\" -d \"/content/drive/MyDrive/EEG-emotion-python/seed dataset/SEED/temp\""
      ]
    },
    {
      "cell_type": "code",
      "execution_count": null,
      "metadata": {
        "colab": {
          "base_uri": "https://localhost:8080/",
          "height": 206
        },
        "id": "lvo7MF4OLVf_",
        "outputId": "f9bda06c-50d4-48db-bdaa-b990c4f984e8"
      },
      "outputs": [
        {
          "ename": "",
          "evalue": "",
          "output_type": "error",
          "traceback": [
            "\u001b[1;31mRunning cells with 'Python 3.9.1 64-bit' requires ipykernel package.\n",
            "Run the following command to install 'ipykernel' into the Python environment. \n",
            "Command: 'C:/Users/subhr/AppData/Local/Programs/Python/Python39/python.exe -m pip install ipykernel -U --user --force-reinstall'"
          ]
        }
      ],
      "source": [
        "# reading the channel order for dataframe\n",
        "channel_order = pd.read_excel(\"Channel Order.xlsx\", header=None)\n",
        "channel_order.head()"
      ]
    },
    {
      "cell_type": "code",
      "execution_count": null,
      "metadata": {
        "colab": {
          "base_uri": "https://localhost:8080/",
          "height": 206
        },
        "id": "teYc7UyCLx0g",
        "outputId": "4b7b1667-37ea-4974-aa3f-53733e888068"
      },
      "outputs": [
        {
          "ename": "",
          "evalue": "",
          "output_type": "error",
          "traceback": [
            "\u001b[1;31mRunning cells with 'Python 3.9.1 64-bit' requires ipykernel package.\n",
            "Run the following command to install 'ipykernel' into the Python environment. \n",
            "Command: 'C:/Users/subhr/AppData/Local/Programs/Python/Python39/python.exe -m pip install ipykernel -U --user --force-reinstall'"
          ]
        }
      ],
      "source": [
        "# extract labels file\n",
        "labels = spio.loadmat(\"label.mat\")\n",
        "labels_df = pd.DataFrame(np.hstack(labels[\"label\"]))\n",
        "labels_df.head()"
      ]
    },
    {
      "cell_type": "code",
      "execution_count": null,
      "metadata": {
        "colab": {
          "base_uri": "https://localhost:8080/"
        },
        "id": "Ut2BbwkwPx8n",
        "outputId": "3381b2c6-30b8-4c09-b7d8-f69675646f0c"
      },
      "outputs": [
        {
          "ename": "",
          "evalue": "",
          "output_type": "error",
          "traceback": [
            "\u001b[1;31mRunning cells with 'Python 3.9.1 64-bit' requires ipykernel package.\n",
            "Run the following command to install 'ipykernel' into the Python environment. \n",
            "Command: 'C:/Users/subhr/AppData/Local/Programs/Python/Python39/python.exe -m pip install ipykernel -U --user --force-reinstall'"
          ]
        }
      ],
      "source": [
        "files = os.listdir(\"temp/Preprocessed_EEG/\")\n",
        "files"
      ]
    },
    {
      "cell_type": "markdown",
      "metadata": {
        "id": "Ssmr7iiPdWvg"
      },
      "source": [
        "**Feature extraction**"
      ]
    },
    {
      "cell_type": "code",
      "execution_count": null,
      "metadata": {
        "id": "Bnv8OiNcYV8S"
      },
      "outputs": [
        {
          "ename": "",
          "evalue": "",
          "output_type": "error",
          "traceback": [
            "\u001b[1;31mRunning cells with 'Python 3.9.1 64-bit' requires ipykernel package.\n",
            "Run the following command to install 'ipykernel' into the Python environment. \n",
            "Command: 'C:/Users/subhr/AppData/Local/Programs/Python/Python39/python.exe -m pip install ipykernel -U --user --force-reinstall'"
          ]
        }
      ],
      "source": [
        "def calc_wavelet_energy(data_set):\n",
        "  \"\"\"\n",
        "    Input : 1 * N vector\n",
        "    Output: Float with the wavelet energy of the input vector,\n",
        "    rounded to 3 decimal places.\n",
        "  \"\"\"\n",
        "  # p_sqr = [i ** 2 for i in data_set]\n",
        "  wavelet_energy = np.nansum(np.log2(np.square(data_set)))\n",
        "  return round(wavelet_energy, 3)"
      ]
    },
    {
      "cell_type": "code",
      "execution_count": null,
      "metadata": {
        "id": "McEczAds0hn5"
      },
      "outputs": [
        {
          "ename": "",
          "evalue": "",
          "output_type": "error",
          "traceback": [
            "\u001b[1;31mRunning cells with 'Python 3.9.1 64-bit' requires ipykernel package.\n",
            "Run the following command to install 'ipykernel' into the Python environment. \n",
            "Command: 'C:/Users/subhr/AppData/Local/Programs/Python/Python39/python.exe -m pip install ipykernel -U --user --force-reinstall'"
          ]
        }
      ],
      "source": [
        "    def calc_shannon_entropy(data_set):\n",
        "        \"\"\"\n",
        "            Input : 1 * N vector\n",
        "            Output: Float with the wavelet entropy of the input vector,\n",
        "                    rounded to 3 decimal places.\n",
        "        \"\"\"\n",
        "        # probability = [i ** 2 for i in data_set]\n",
        "        probability = np.square(data_set)\n",
        "        shannon_entropy = -np.nansum(probability * np.log2(probability))\n",
        "        return round(shannon_entropy, 3)"
      ]
    },
    {
      "cell_type": "code",
      "execution_count": null,
      "metadata": {
        "id": "AWNg43Z3XXwP"
      },
      "outputs": [
        {
          "ename": "",
          "evalue": "",
          "output_type": "error",
          "traceback": [
            "\u001b[1;31mRunning cells with 'Python 3.9.1 64-bit' requires ipykernel package.\n",
            "Run the following command to install 'ipykernel' into the Python environment. \n",
            "Command: 'C:/Users/subhr/AppData/Local/Programs/Python/Python39/python.exe -m pip install ipykernel -U --user --force-reinstall'"
          ]
        }
      ],
      "source": [
        "participant_trial = []\n",
        "features_table = pd.DataFrame(columns=range(620))\n",
        "for file in files:\n",
        "  mat_file = spio.loadmat(\"temp/Preprocessed_EEG/\" + file)\n",
        "  keys = [key for key, values in mat_file.items() if key != '__header__' and key != '__version__' and key != '__globals__' ]\n",
        "  for data_file in keys:\n",
        "    data_df = pd.DataFrame(mat_file[data_file])\n",
        "    # print(data_df)\n",
        "    M = data_df.shape[0]\n",
        "    N = data_df.shape[1]\n",
        "    # Feature extraction part of the module\n",
        "    Entropy = []\n",
        "    Energy = []\n",
        "    for channel in data_df.iterrows():  # Iterating through the 62 channels\n",
        "      dwt_bands = []\n",
        "      data = channel[1]\n",
        "      int_ent = []\n",
        "      int_eng = []\n",
        "      for band in range(MAX_LEVEL):\n",
        "        (data, coeff_d) = pywt.dwt(data, WAVELET)\n",
        "        dwt_bands.append(coeff_d)\n",
        "      \n",
        "      for band in range(len(dwt_bands)):  # DWT_bands = 23504, 11755\n",
        "        int_ent.append(calc_shannon_entropy(dwt_bands[len(dwt_bands) - band - 1]))\n",
        "        int_eng.append(calc_wavelet_energy(dwt_bands[len(dwt_bands) - band - 1]))\n",
        "      \n",
        "      Entropy.append(int_ent)\n",
        "      Energy.append(int_eng)\n",
        "    \n",
        "    unroll_entropy = []\n",
        "    unroll_energy = []\n",
        "    '''\n",
        "        Transforming 2D array into 1D vector of features and then \n",
        "        combining the two 1D arrays.\n",
        "    '''\n",
        "    for i in range(len(Entropy)):\n",
        "      for j in range(len(Entropy[0])):\n",
        "        unroll_entropy.append(Entropy[i][j])\n",
        "        unroll_energy.append(Energy[i][j])\n",
        "\n",
        "    features = unroll_entropy + unroll_energy\n",
        "    participant_trial.append(features)\n",
        "    features_table.loc[len(features_table.index)] = features\n",
        "    # print(data_file)\n",
        "    # print(features)\n",
        "  print(file)\n"
      ]
    },
    {
      "cell_type": "code",
      "execution_count": null,
      "metadata": {
        "id": "LlIb4wqid8TX"
      },
      "outputs": [
        {
          "ename": "",
          "evalue": "",
          "output_type": "error",
          "traceback": [
            "\u001b[1;31mRunning cells with 'Python 3.9.1 64-bit' requires ipykernel package.\n",
            "Run the following command to install 'ipykernel' into the Python environment. \n",
            "Command: 'C:/Users/subhr/AppData/Local/Programs/Python/Python39/python.exe -m pip install ipykernel -U --user --force-reinstall'"
          ]
        }
      ],
      "source": [
        "file_dir = dir + \"/temp/analysis/\""
      ]
    },
    {
      "cell_type": "code",
      "execution_count": null,
      "metadata": {
        "id": "L3mY47GX-tgW"
      },
      "outputs": [
        {
          "ename": "",
          "evalue": "",
          "output_type": "error",
          "traceback": [
            "\u001b[1;31mRunning cells with 'Python 3.9.1 64-bit' requires ipykernel package.\n",
            "Run the following command to install 'ipykernel' into the Python environment. \n",
            "Command: 'C:/Users/subhr/AppData/Local/Programs/Python/Python39/python.exe -m pip install ipykernel -U --user --force-reinstall'"
          ]
        }
      ],
      "source": [
        "features_table.to_csv(file_dir + \"features\" + WAVELET + \".csv\", index=False)"
      ]
    },
    {
      "cell_type": "markdown",
      "metadata": {
        "id": "JreZ9rFodcEn"
      },
      "source": [
        "**Principal Components Analysis**"
      ]
    },
    {
      "cell_type": "code",
      "execution_count": null,
      "metadata": {
        "id": "w32UIkImbd1o"
      },
      "outputs": [
        {
          "ename": "",
          "evalue": "",
          "output_type": "error",
          "traceback": [
            "\u001b[1;31mRunning cells with 'Python 3.9.1 64-bit' requires ipykernel package.\n",
            "Run the following command to install 'ipykernel' into the Python environment. \n",
            "Command: 'C:/Users/subhr/AppData/Local/Programs/Python/Python39/python.exe -m pip install ipykernel -U --user --force-reinstall'"
          ]
        }
      ],
      "source": [
        "data = pd.read_csv(file_dir + \"features\" + WAVELET + \".csv\")"
      ]
    },
    {
      "cell_type": "code",
      "execution_count": null,
      "metadata": {
        "colab": {
          "base_uri": "https://localhost:8080/",
          "height": 255
        },
        "id": "h10DXrmcezSJ",
        "outputId": "7584a4dd-778d-4a39-9936-c88249b73923"
      },
      "outputs": [
        {
          "ename": "",
          "evalue": "",
          "output_type": "error",
          "traceback": [
            "\u001b[1;31mRunning cells with 'Python 3.9.1 64-bit' requires ipykernel package.\n",
            "Run the following command to install 'ipykernel' into the Python environment. \n",
            "Command: 'C:/Users/subhr/AppData/Local/Programs/Python/Python39/python.exe -m pip install ipykernel -U --user --force-reinstall'"
          ]
        }
      ],
      "source": [
        "# 1. Normalising data and getting transpose\n",
        "normalised = pd.DataFrame(normalize(data, axis = 0))\n",
        "\n",
        "# 2. Finding covariance matrix\n",
        "covariance_df = normalised.cov()\n",
        "\n",
        "# 3. Eigen Vectors\n",
        "u, s, v = np.linalg.svd(covariance_df)\n",
        "\n",
        "# 4. Principal Components\n",
        "data_reduced = normalised @ u\n",
        "data_reduced.head()"
      ]
    },
    {
      "cell_type": "code",
      "execution_count": null,
      "metadata": {
        "id": "OMO99_hsi5RI"
      },
      "outputs": [
        {
          "ename": "",
          "evalue": "",
          "output_type": "error",
          "traceback": [
            "\u001b[1;31mRunning cells with 'Python 3.9.1 64-bit' requires ipykernel package.\n",
            "Run the following command to install 'ipykernel' into the Python environment. \n",
            "Command: 'C:/Users/subhr/AppData/Local/Programs/Python/Python39/python.exe -m pip install ipykernel -U --user --force-reinstall'"
          ]
        }
      ],
      "source": [
        "data_reduced.to_csv(file_dir + \"pc\" + WAVELET + \".csv\", index=False)"
      ]
    },
    {
      "cell_type": "code",
      "execution_count": null,
      "metadata": {
        "colab": {
          "base_uri": "https://localhost:8080/",
          "height": 36
        },
        "id": "k0PvmvQcoa_O",
        "outputId": "d1802b76-8e06-4c24-8264-ad876aaf3880"
      },
      "outputs": [
        {
          "ename": "",
          "evalue": "",
          "output_type": "error",
          "traceback": [
            "\u001b[1;31mRunning cells with 'Python 3.9.1 64-bit' requires ipykernel package.\n",
            "Run the following command to install 'ipykernel' into the Python environment. \n",
            "Command: 'C:/Users/subhr/AppData/Local/Programs/Python/Python39/python.exe -m pip install ipykernel -U --user --force-reinstall'"
          ]
        }
      ],
      "source": [
        "file_dir"
      ]
    },
    {
      "cell_type": "markdown",
      "metadata": {
        "id": "ZFm_Yb9JkjUZ"
      },
      "source": [
        "**Running data through classifiers**\n",
        "\n",
        "\n",
        "1.   SVM\n",
        "\n"
      ]
    },
    {
      "cell_type": "code",
      "execution_count": null,
      "metadata": {
        "id": "6CZIMZlvj4BQ"
      },
      "outputs": [
        {
          "ename": "",
          "evalue": "",
          "output_type": "error",
          "traceback": [
            "\u001b[1;31mRunning cells with 'Python 3.9.1 64-bit' requires ipykernel package.\n",
            "Run the following command to install 'ipykernel' into the Python environment. \n",
            "Command: 'C:/Users/subhr/AppData/Local/Programs/Python/Python39/python.exe -m pip install ipykernel -U --user --force-reinstall'"
          ]
        }
      ],
      "source": [
        "# Reading data and splitting \n",
        "pcs = pd.read_csv(file_dir + \"pc\" + WAVELET + \".csv\")\n",
        "outputs = pd.read_csv(file_dir + \"outputs_main.csv\", header=None)\n",
        "\n",
        "X = pcs.iloc[:, :].values\n",
        "Y = outputs.iloc[:, :].values\n",
        "\n",
        "X_train, X_test, Y_train, Y_test = train_test_split(X, Y, test_size = 0.2, random_state=42)"
      ]
    },
    {
      "cell_type": "code",
      "execution_count": null,
      "metadata": {
        "colab": {
          "base_uri": "https://localhost:8080/"
        },
        "id": "uJRxucIelgU1",
        "outputId": "afc64dae-55c2-45ba-9105-6deadcd14333"
      },
      "outputs": [
        {
          "ename": "",
          "evalue": "",
          "output_type": "error",
          "traceback": [
            "\u001b[1;31mRunning cells with 'Python 3.9.1 64-bit' requires ipykernel package.\n",
            "Run the following command to install 'ipykernel' into the Python environment. \n",
            "Command: 'C:/Users/subhr/AppData/Local/Programs/Python/Python39/python.exe -m pip install ipykernel -U --user --force-reinstall'"
          ]
        }
      ],
      "source": [
        "svc = SVC()\n",
        "parameters = {\"C\": (100, 1e3, 1e4, 1e5, 1e6, 1e7, 1e8, 1e9), \"gamma\": (1e-08, 1e-7, 1e-6, 1e-5)}\n",
        "grid_search = GridSearchCV(svc, parameters, n_jobs=-1, cv=5)\n",
        "start_time = timeit.default_timer()\n",
        "grid_search.fit(X_train, Y_train)\n",
        "print(\"--- {0:.3f} seconds ---\".format(timeit.default_timer() - start_time))\n",
        "print(grid_search.best_params_)\n",
        "svc_best = grid_search.best_estimator_\n",
        "accuracy = svc_best.score(X_test, Y_test)\n",
        "print(\"Accuracy on the testing set is: {0:.1f}%\".format(accuracy*100))\n",
        "prediction = svc_best.predict(X_test)\n",
        "report = classification_report(Y_test, prediction)\n",
        "print(report)\n"
      ]
    },
    {
      "cell_type": "code",
      "execution_count": null,
      "metadata": {
        "id": "cUt4ETQuoo5I"
      },
      "outputs": [
        {
          "ename": "",
          "evalue": "",
          "output_type": "error",
          "traceback": [
            "\u001b[1;31mRunning cells with 'Python 3.9.1 64-bit' requires ipykernel package.\n",
            "Run the following command to install 'ipykernel' into the Python environment. \n",
            "Command: 'C:/Users/subhr/AppData/Local/Programs/Python/Python39/python.exe -m pip install ipykernel -U --user --force-reinstall'"
          ]
        }
      ],
      "source": []
    }
  ],
  "metadata": {
    "colab": {
      "collapsed_sections": [],
      "name": "eeg-emotion-python.ipynb",
      "provenance": []
    },
    "kernelspec": {
      "display_name": "Python 3",
      "name": "python3"
    },
    "language_info": {
      "codemirror_mode": {
        "name": "ipython",
        "version": 3
      },
      "file_extension": ".py",
      "mimetype": "text/x-python",
      "name": "python",
      "nbconvert_exporter": "python",
      "pygments_lexer": "ipython3",
      "version": "3.9.1"
    }
  },
  "nbformat": 4,
  "nbformat_minor": 0
}
